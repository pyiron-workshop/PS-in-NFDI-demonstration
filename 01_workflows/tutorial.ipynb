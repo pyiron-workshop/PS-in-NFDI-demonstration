{
 "cells": [
  {
   "cell_type": "markdown",
   "id": "45805cb7-58c4-45b8-86d2-8358fc06aa67",
   "metadata": {},
   "source": [
    "## <font style=\"font-family:roboto;color:#455e6c\"> Creating and running automated workflows for material science </font>  "
   ]
  },
  {
   "cell_type": "markdown",
   "id": "8e9869f7-565f-4b36-8684-c521dc1118fd",
   "metadata": {},
   "source": [
    "<div class=\"admonition note\" name=\"html-admonition\" style=\"background:#e3f2fd; padding: 10px\">\n",
    "<font style=\"font-family:roboto;color:#455e6c\"> <b> Webinar: FAIR Data in Physical Sciences in NFDI </b> </font> </br>\n",
    "<font style=\"font-family:roboto;color:#455e6c\"> 26 April 2024 </font>\n",
    "</div>"
   ]
  },
  {
   "cell_type": "markdown",
   "id": "bf16644c-0bfd-48fe-9ab2-6c08bbcce21e",
   "metadata": {},
   "source": [
    "We will use [pyiron_workflow](https://github.com/pyiron/pyiron_workflow), a framework for constructing workflows as computational graphs from simple python functions, to create a simple workflow for data analysis. Coverting your script to a workflow that you can use a number of powerful features that pyiron provides, such as data management, job management, at the same time ensuring that they are fully reproducible."
   ]
  },
  {
   "cell_type": "markdown",
   "id": "4f78ccd7-bf31-4dc2-9037-b46068adcd8e",
   "metadata": {},
   "source": [
    "In this example, we will use a very common use case in Materials Science, which is to use data from a [tensile test](https://en.wikipedia.org/wiki/Tensile_testing) to calculate the [Young's modulus](https://en.wikipedia.org/wiki/Young%27s_modulus).\n",
    "\n",
    "\n",
    "\n",
    "We start from a datafile in csv format. The file containes data from a tensile test of typical S355 (material number: 1.0577) structural steel (designation of steel according to DIN EN 10025-2:2019). The data were generated in the [Bundesanstalt für Materialforschung und -prüfung (BAM)](https://zenodo.org/communities/bam) in the framework of the digitization project [Innovationplatform MaterialDigital (PMD)](https://www.materialdigital.de/) which, amongst other activities, aims to store data in a semantically and machine understandable way. \n",
    "\n",
    "### References\n",
    "\n",
    "- Schilling, M., Glaubitz, S., Matzak, K., Rehmer, B., & Skrotzki, B. (2022). Full dataset of several mechanical tests on an S355 steel sheet as reference data for digital representations (1.0.0) [Data set](https://doi.org/10.5281/zenodo.6778336)"
   ]
  },
  {
   "cell_type": "markdown",
   "id": "93720d7b-33ae-47f8-801e-2ecaf41179f7",
   "metadata": {},
   "source": [
    "Let's start with the visualisation of how such a workflow would look like:"
   ]
  },
  {
   "cell_type": "markdown",
   "id": "b6cc3212-1961-4cf9-b780-b6e424777294",
   "metadata": {},
   "source": [
    "<img src=\"workflow-dpg.png\" width=\"700\">"
   ]
  },
  {
   "cell_type": "markdown",
   "id": "f222dc12-667f-4cea-ab54-3244c8079b3b",
   "metadata": {},
   "source": [
    "In the tensile test experiment, the force (load) and elongation values are recorded, and saved in a csv file which forms the dataset. We would like to read in this dataset, and convert the load and elongation to stress and strain. Then we plot the results, and calculate a the Young's modulus, which is the slope of the linear, elastic part of the stress-strain curve. Your calculation could depend on the value of this strain-cutoff that is used, which is something we will explore. "
   ]
  },
  {
   "cell_type": "markdown",
   "id": "01b5a803-aa06-4ae8-a396-7330dcaecb76",
   "metadata": {},
   "source": [
    "<div class=\"admonition note\" name=\"html-admonition\" style=\"background: #FFEDD1; padding: 10px\">\n",
    "<p class=\"title\"><b>Note</b></p>\n",
    "Note that the stress and strain used in this notebook are actually <a href=\"https://en.wikipedia.org/wiki/Stress%E2%80%93strain_curve\">engineering stress and strain</a>\n",
    "</div>"
   ]
  },
  {
   "cell_type": "markdown",
   "id": "91b5631d-ebfa-452b-8dae-ff15424ddcfe",
   "metadata": {},
   "source": [
    "To create such a workflow, we start by defining some functions which does each of this step. We will use 'pyiron_workflow' to compose them into a workflow, which can then be easily visualised and executed."
   ]
  },
  {
   "cell_type": "markdown",
   "id": "3cdb649b-87b3-4b6e-b4c9-aba1985b1d18",
   "metadata": {},
   "source": [
    "Before we move on to the actual workflow, a crash course on Jupyter notebooks."
   ]
  },
  {
   "cell_type": "markdown",
   "id": "e2d3da89-00ed-453c-9327-4af3f4f1b09e",
   "metadata": {},
   "source": [
    "### <font style=\"font-family:roboto;color:#455e6c\"> Jupyter Crash Course </font>  \n",
    "\n",
    "1. Select cells by clicking on them.\n",
    "2. Navigate through with `up` and `down` keys (or `k` and `j` for you vimmers).\n",
    "3. Press Enter to edit a cell.\n",
    "4. Press Shift-Enter to execute it.\n",
    "5. Create new cells above or below the current one with `a` or `b`.\n",
    "6. Copy, cut and paste them with `c`, `x` and `v`.\n",
    "7. Press `m` to turn a cell into a markdown cell.\n",
    "8. See the `Help` in the toolbar for more."
   ]
  },
  {
   "cell_type": "code",
   "execution_count": null,
   "id": "39af5d0e-d4e2-409b-83b6-8dc7321d7239",
   "metadata": {},
   "outputs": [],
   "source": [
    "import matplotlib.pyplot as plt\n",
    "import numpy as np\n",
    "import pandas as pd\n",
    "\n",
    "from pyiron_base import Project\n",
    "from pyiron_workflow import Workflow, job"
   ]
  },
  {
   "cell_type": "markdown",
   "id": "3b45f4d6-47ab-4660-833a-0fbad7ec0b3b",
   "metadata": {},
   "source": [
    "### <font style=\"font-family:roboto;color:#455e6c\"> Reading in the experimental results </font>  "
   ]
  },
  {
   "cell_type": "markdown",
   "id": "aebbd628-1a0a-4e82-b508-dc1adc8e795c",
   "metadata": {},
   "source": [
    "This function reads in the csv file, and in addition, the cross sectional area. The load is converted to stress in MPa, and the stress and strain values are returned."
   ]
  },
  {
   "cell_type": "code",
   "execution_count": null,
   "id": "4c196f07-bd94-47b3-b596-f1c71eeb0e31",
   "metadata": {},
   "outputs": [],
   "source": [
    "@Workflow.wrap_as.function_node()\n",
    "def ReadInput(filename, area):\n",
    "    \"\"\"\n",
    "    Read in csv file, convert load to stress\n",
    "    \"\"\"\n",
    "    kN_to_N = 0.001  # convert kiloNewton to Newton\n",
    "    mm2_to_m2 = 1e-6  # convert square millimeters to square meters\n",
    "    df = pd.read_csv(filename, delimiter=\";\", header=[0, 1], decimal=\",\")\n",
    "    df[\"Stress\"] = df[\"Load\"] * kN_to_N / (area * mm2_to_m2)\n",
    "    #although it says extensometer elongation, the values are in percent! \n",
    "    strain = df[\"Extensometer elongation\"].values.flatten()\n",
    "    #subtract the offset from the dataset\n",
    "    strain = strain - strain[0]\n",
    "    stress = df[\"Stress\"].values.flatten()\n",
    "    return stress, strain"
   ]
  },
  {
   "cell_type": "markdown",
   "id": "764df573-ce97-45be-b0b6-4423aa43b6a6",
   "metadata": {},
   "source": [
    "### <font style=\"font-family:roboto;color:#455e6c\"> Calculate Young's modulus </font>  "
   ]
  },
  {
   "cell_type": "markdown",
   "id": "eb6c851d-d6b7-4165-b0fd-4dee89f02885",
   "metadata": {},
   "source": [
    "The stress and strain values, which are outputs of the previous function is used for a linear fit in this function, and the slope is calculated. The slope is the Young's modulus. The calculated value of Young's modulus will depend on the `strain_cutoff` parameter."
   ]
  },
  {
   "cell_type": "code",
   "execution_count": null,
   "id": "95e6d452-0774-4994-bda8-6b156788ec86",
   "metadata": {},
   "outputs": [],
   "source": [
    "@Workflow.wrap_as.function_node()\n",
    "def CalculateYoungsModulus(stress, strain, strain_cutoff=0.2):\n",
    "    percent_to_fraction = 100  # convert\n",
    "    MPa_to_GPa = 1 / 1000  # convert MPa to GPa\n",
    "    arg = np.argsort(np.abs(np.array(strain) - strain_cutoff))[0]\n",
    "    fit = np.polyfit(strain[:arg], stress[:arg], 1)\n",
    "    youngs_modulus = fit[0] * percent_to_fraction * MPa_to_GPa\n",
    "    return youngs_modulus"
   ]
  },
  {
   "cell_type": "markdown",
   "id": "a472713c-89dc-4b91-b192-564d5530401a",
   "metadata": {},
   "source": [
    "### <font style=\"font-family:roboto;color:#455e6c\"> Plotting the results </font>  "
   ]
  },
  {
   "cell_type": "markdown",
   "id": "6af596b8-92d3-4ee6-b0dd-fd0bf8390084",
   "metadata": {},
   "source": [
    "This function plots the stress and strain."
   ]
  },
  {
   "cell_type": "code",
   "execution_count": null,
   "id": "31cf633c-dc6f-4132-bce1-0edfbb64a723",
   "metadata": {},
   "outputs": [],
   "source": [
    "@Workflow.wrap_as.function_node()\n",
    "def Plot(stress, strain, format=\"-\"):\n",
    "    plt.plot(strain, stress, format)\n",
    "    plt.xlabel(\"Strain [%]\")\n",
    "    plt.ylabel(\"Stress [MPa]\")\n",
    "    return 1"
   ]
  },
  {
   "cell_type": "markdown",
   "id": "1fb47752-19d2-4524-bd95-a491fb514614",
   "metadata": {},
   "source": [
    "### <font style=\"font-family:roboto;color:#455e6c\"> Creating a workflow </font>  "
   ]
  },
  {
   "cell_type": "markdown",
   "id": "a402a4e0-4b60-4bb0-a747-034f14465d0d",
   "metadata": {},
   "source": [
    "Now we can combine all the functions together to compose a workflow. Each function corresponds to a step in the workflow and their inputs and outputs are linked."
   ]
  },
  {
   "cell_type": "code",
   "execution_count": null,
   "id": "950da016-0dbe-4211-bf26-531053d3ee52",
   "metadata": {},
   "outputs": [],
   "source": [
    "wf = Workflow(\"youngs_modulus\")\n",
    "wf.strain_cutoff = Workflow.create.standard.UserInput(float)\n",
    "wf.read_input = ReadInput()\n",
    "\n",
    "wf.youngs_modulus = CalculateYoungsModulus(\n",
    "    stress=wf.read_input.outputs.stress,\n",
    "    strain=wf.read_input.outputs.strain,\n",
    ")\n",
    "\n",
    "wf.plot = Plot(\n",
    "    stress=wf.read_input.outputs.stress,\n",
    "    strain=wf.read_input.outputs.strain,\n",
    ")"
   ]
  },
  {
   "cell_type": "markdown",
   "id": "9868f1ce-dbb5-4ed2-bdb2-dbafb1d5107d",
   "metadata": {},
   "source": [
    "Now we execute the workflow"
   ]
  },
  {
   "cell_type": "code",
   "execution_count": null,
   "id": "e3108fd5-73b7-4639-9551-d04fa8eb0184",
   "metadata": {
    "scrolled": true
   },
   "outputs": [],
   "source": [
    "wf(\n",
    "    read_input__filename=\"dataset_1.csv\",\n",
    "    read_input__area=120.636,\n",
    "    plot__format=\"-x\",\n",
    ")"
   ]
  },
  {
   "cell_type": "markdown",
   "id": "aac3a4cf-5f1f-4018-b4f8-e5bd49cf70c7",
   "metadata": {},
   "source": [
    "We can also visualise the workflow. The visualisation shows the different steps, and their inputs and outputs and how they are linked together."
   ]
  },
  {
   "cell_type": "code",
   "execution_count": null,
   "id": "59070602-a311-47bf-8470-e19796b56149",
   "metadata": {},
   "outputs": [],
   "source": [
    "wf.draw(size=(12, 15))"
   ]
  },
  {
   "cell_type": "markdown",
   "id": "4fd0f2f2-06d2-4590-a49e-ed1afdf9a25c",
   "metadata": {},
   "source": [
    "### <font style=\"font-family:roboto;color:#455e6c\"> Making a reusable workflow </font>  "
   ]
  },
  {
   "cell_type": "markdown",
   "id": "8e786246-3d02-4239-b276-22cb44c9dee0",
   "metadata": {},
   "source": [
    "Now that we have a workflow, we can convert it to a Macro, which is a resuable instance. Macros provide three advantages:\n",
    "\n",
    "- Reusability: the macro can be used with different input parameters\n",
    "- Composable: the macro can be integrated into other workflows as a step\n",
    "- Shareable: it can be shared with others, who can in turn run it\n",
    "\n",
    "The macro looks very much like the workflow we composed before."
   ]
  },
  {
   "cell_type": "code",
   "execution_count": null,
   "id": "c3d279f3-a73b-43c0-be9b-9b26ec43fe83",
   "metadata": {},
   "outputs": [],
   "source": [
    "@Workflow.wrap_as.macro_node(\"youngs_modulus\", \"strain_cutoff\")\n",
    "def YoungsModulus(wf, filename, area, strain_cutoff):\n",
    "    wf.read_input = ReadInput(filename, area)\n",
    "    wf.youngs_modulus = CalculateYoungsModulus(\n",
    "        stress=wf.read_input.outputs.stress,\n",
    "        strain=wf.read_input.outputs.strain,\n",
    "        strain_cutoff=strain_cutoff,\n",
    "    )\n",
    "    return wf.youngs_modulus.outputs.youngs_modulus, strain_cutoff\n",
    "\n",
    "\n",
    "modulus = YoungsModulus(\n",
    "    filename=\"dataset_1.csv\", area=120.636\n",
    ")"
   ]
  },
  {
   "cell_type": "markdown",
   "id": "1eceb371-7873-4029-a6ab-115b19a65427",
   "metadata": {},
   "source": [
    "let's see how we can run the macro"
   ]
  },
  {
   "cell_type": "code",
   "execution_count": null,
   "id": "c4a8cae9-289e-40d2-b7a5-1bcac8121ed7",
   "metadata": {},
   "outputs": [],
   "source": [
    "modulus(strain_cutoff=0.2)"
   ]
  },
  {
   "cell_type": "markdown",
   "id": "f9d29637-bf99-4a60-a9ad-f5dcc67fa13d",
   "metadata": {},
   "source": [
    "### <font style=\"font-family:roboto;color:#455e6c\"> Scaling up calculations </font>  "
   ]
  },
  {
   "cell_type": "markdown",
   "id": "588e3320-92f1-4560-95ac-ebb81a988162",
   "metadata": {},
   "source": [
    "Although this example is easy and fast to run, it represents a common type of problem. For example, we would like to understand the impact of the parameter `strain_cutoff` on the calculated Young's modulus. Often, the calculations are computationally intensive, and would need to be parallelised. For this, we can use `pyiron Project`. A `Project` is a collection of `Job`s which can be easily scaled. The macro that we composed can be easily converted to a Job. "
   ]
  },
  {
   "cell_type": "code",
   "execution_count": null,
   "id": "cd57c7fd-ab47-476c-be9a-ddd1f2fa6f92",
   "metadata": {},
   "outputs": [],
   "source": [
    "pr = Project(\"stress-strain-project\")"
   ]
  },
  {
   "cell_type": "code",
   "execution_count": null,
   "id": "880207d9-e71b-4c95-ab4e-34084c46b3f7",
   "metadata": {},
   "outputs": [],
   "source": [
    "job = pr.create.job.NodeJob(\"youngs_modulus\")\n",
    "job.input[\"node\"] = modulus"
   ]
  },
  {
   "cell_type": "markdown",
   "id": "4ad20369-2226-4ba3-be24-5a52abf85abf",
   "metadata": {},
   "source": [
    "Now we can simply call the `run` function to execute the job"
   ]
  },
  {
   "cell_type": "code",
   "execution_count": null,
   "id": "8887105f-36f6-48b6-997a-85a1f2c185e0",
   "metadata": {},
   "outputs": [],
   "source": [
    "job.run()"
   ]
  },
  {
   "cell_type": "markdown",
   "id": "7303dda8-8d24-4404-b05e-5c1ea94b05ad",
   "metadata": {},
   "source": [
    "The output can be accessed as follows:"
   ]
  },
  {
   "cell_type": "code",
   "execution_count": null,
   "id": "2d266f61-855f-4d15-a394-d5b0114e83b4",
   "metadata": {},
   "outputs": [],
   "source": [
    "job.output.youngs_modulus"
   ]
  },
  {
   "cell_type": "markdown",
   "id": "aeb8e511-51d0-4227-a969-e247c007cb2c",
   "metadata": {},
   "source": [
    "Now we will vary the `strain_cutoff` to find an optimal value. There are [many methods](https://www.degruyter.com/document/doi/10.3139/120.110269/html?lang=de) to do this and usually the result depends on the method. Here, we will simply choose a range of strain cutoff values, and run our Job at each of them. We will choose 30 values from the range 0.03 to 0.3."
   ]
  },
  {
   "cell_type": "code",
   "execution_count": null,
   "id": "4220bad5-a03c-44b6-a720-d3065e6c4942",
   "metadata": {
    "scrolled": true
   },
   "outputs": [],
   "source": [
    "for x in np.linspace(0.03, 0.3, 30):\n",
    "    job = pr.create.job.NodeJob(f\"job_{np.round(x, 4)}\")\n",
    "    job.input[\"node\"] = YoungsModulus(\n",
    "        filename=\"dataset_1.csv\",\n",
    "        area=120.636,\n",
    "        strain_cutoff=x,\n",
    "    )\n",
    "    job.run()"
   ]
  },
  {
   "cell_type": "markdown",
   "id": "ee03f4db-160f-4901-972b-bccfc3b7ea48",
   "metadata": {},
   "source": [
    "### <font style=\"font-family:roboto;color:#455e6c\"> The pyiron job table </font>  \r\n",
    "\n",
    "pyiron offers a feature to check your jobs at a glance"
   ]
  },
  {
   "cell_type": "code",
   "execution_count": null,
   "id": "3c55516d-62cb-4892-8785-bc593695fc68",
   "metadata": {},
   "outputs": [],
   "source": [
    "pr.job_table()"
   ]
  },
  {
   "cell_type": "markdown",
   "id": "01aa34d0-b0a4-4161-a6d7-6477c4c3c826",
   "metadata": {},
   "source": [
    "You can see that all the jobs we ran are indexed there along with the associated metadata. This is a powertool tool with which we can do further analysis. We will collect the value of Young's modulus and strain cutoff and plot them."
   ]
  },
  {
   "cell_type": "markdown",
   "id": "6fc8ab38-9010-4066-be39-239db103eb4e",
   "metadata": {},
   "source": [
    "First we create a pyiron table"
   ]
  },
  {
   "cell_type": "code",
   "execution_count": null,
   "id": "a6840772-c754-4ba5-8723-b15a59ca3c99",
   "metadata": {},
   "outputs": [],
   "source": [
    "table = pr.create.table(delete_existing_job=True)"
   ]
  },
  {
   "cell_type": "markdown",
   "id": "1bb72890-6636-49ee-b564-6b30c4078ba0",
   "metadata": {},
   "source": [
    "Now we need to add some conditions to add data to the table. We create two functions that will extract the Young's modulus and strain cutoff:"
   ]
  },
  {
   "cell_type": "code",
   "execution_count": null,
   "id": "02fc79c9-8bd7-49b3-ad47-00c37768c067",
   "metadata": {},
   "outputs": [],
   "source": [
    "def youngs_modulus(job):\n",
    "    return job[\"storage/output\"][\"youngs_modulus\"]\n",
    "\n",
    "\n",
    "def strain_cutoff(job):\n",
    "    return job[\"storage/output\"][\"strain_cutoff\"]"
   ]
  },
  {
   "cell_type": "markdown",
   "id": "fa3880ea-4b0c-47dc-aefd-92bfb6f85cb7",
   "metadata": {},
   "source": [
    "We can apply them on the table:"
   ]
  },
  {
   "cell_type": "code",
   "execution_count": null,
   "id": "92f652ec-5e1a-4a25-85b6-ffad4e6203f5",
   "metadata": {},
   "outputs": [],
   "source": [
    "table.add[\"youngs_modulus\"] = youngs_modulus\n",
    "table.add[\"strain_cutoff\"] = strain_cutoff\n",
    "table.run()"
   ]
  },
  {
   "cell_type": "markdown",
   "id": "f188ddb0-844d-4e21-bc83-df06dc58900c",
   "metadata": {},
   "source": [
    "and we extract the results."
   ]
  },
  {
   "cell_type": "code",
   "execution_count": null,
   "id": "4d5050fc-a254-4284-aed5-4d8568cb5bb4",
   "metadata": {},
   "outputs": [],
   "source": [
    "df = table.get_dataframe().sort_values(by=\"strain_cutoff\")\n",
    "df"
   ]
  },
  {
   "cell_type": "markdown",
   "id": "d62af4e2-e6f6-4270-a123-ba14c9e372cc",
   "metadata": {},
   "source": [
    "Finally we can plot it and see how the value of Young's modulus changes with the selected strain cutoff. "
   ]
  },
  {
   "cell_type": "code",
   "execution_count": null,
   "id": "9e86a24c-954c-4005-b963-8f6c59a2c635",
   "metadata": {},
   "outputs": [],
   "source": [
    "B_experiment = 194\n",
    "plt.plot(\n",
    "    df.strain_cutoff,\n",
    "    df.youngs_modulus,\n",
    "    \"o-\",\n",
    "    color=\"#e57373\",\n",
    "    markeredgecolor=\"#455a64\",\n",
    ")\n",
    "plt.axhline(B_experiment, color=\"black\", ls=\"dashed\")\n",
    "plt.xlabel(\"Strain cutoff [%]\")\n",
    "plt.ylabel(\"Young's modulus [MPa]\");"
   ]
  },
  {
   "cell_type": "markdown",
   "id": "f10456ee-2f7a-4237-90d1-ca9f51bc5a0c",
   "metadata": {},
   "source": [
    "The experimental value (194 MPa) is marked in black dashed line. As you can see, a very low range gives the wrong results. At a high value of strain cutoff, the non-elastic region is also included in the calculation, which then leads to wrong results."
   ]
  },
  {
   "cell_type": "markdown",
   "id": "30ad27b9-7260-4108-b4fc-35ef31feb2ef",
   "metadata": {},
   "source": [
    "<div class=\"admonition note\" name=\"html-admonition\" style=\"background: #FFEDD1; padding: 10px\">\n",
    "<p class=\"title\"><b>Note</b></p>\n",
    "As we have seen, the ranges of stress and strain have to chosen carefully. In practice, this is done by calculating <a href=\"https://materion.com/-/media/files/alloy/newsletters/technical-tidbits/issue-no-47---yield-strength-and-other-near-elastic-properties.pdf\">R<sub>P0,2</sub> yield stress</a>\n",
    "</div>"
   ]
  },
  {
   "cell_type": "markdown",
   "id": "815ae016-2a0c-4d56-a969-ed4d6df597e2",
   "metadata": {},
   "source": [
    "### <font style=\"font-family:roboto;color:#455e6c\"> Software used in this notebook </font>  \n",
    "\n",
    "- [pyiron](https://pyiron.org/)\n",
    "- [pyiron_workflow](https://github.com/pyiron/pyiron_workflow)"
   ]
  }
 ],
 "metadata": {
  "kernelspec": {
   "display_name": "Python 3 (ipykernel)",
   "language": "python",
   "name": "python3"
  },
  "language_info": {
   "codemirror_mode": {
    "name": "ipython",
    "version": 3
   },
   "file_extension": ".py",
   "mimetype": "text/x-python",
   "name": "python",
   "nbconvert_exporter": "python",
   "pygments_lexer": "ipython3",
   "version": "3.11.8"
  }
 },
 "nbformat": 4,
 "nbformat_minor": 5
}
